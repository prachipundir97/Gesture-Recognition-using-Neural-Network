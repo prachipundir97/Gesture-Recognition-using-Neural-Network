{
 "cells": [
  {
   "cell_type": "markdown",
   "metadata": {},
   "source": [
    "# Gesture Recognition\n",
    "In this group project, you are going to build a 3D Conv model that will be able to predict the 5 gestures correctly. Please import the following libraries to get started."
   ]
  },
  {
   "cell_type": "code",
   "execution_count": 1,
   "metadata": {},
   "outputs": [],
   "source": [
    "import numpy as np\n",
    "import os\n",
    "from scipy.misc import imread, imresize\n",
    "import datetime\n",
    "import os\n",
    "import warnings\n",
    "import matplotlib.pyplot as plt\n",
    "warnings.filterwarnings(\"ignore\", category=DeprecationWarning)"
   ]
  },
  {
   "cell_type": "markdown",
   "metadata": {},
   "source": [
    "We set the random seed so that the results don't vary drastically."
   ]
  },
  {
   "cell_type": "code",
   "execution_count": 2,
   "metadata": {},
   "outputs": [
    {
     "name": "stderr",
     "output_type": "stream",
     "text": [
      "Using TensorFlow backend.\n"
     ]
    }
   ],
   "source": [
    "np.random.seed(30)\n",
    "import random as rn\n",
    "rn.seed(30)\n",
    "from keras import backend as K\n",
    "import tensorflow as tf\n",
    "tf.set_random_seed(30)"
   ]
  },
  {
   "cell_type": "markdown",
   "metadata": {},
   "source": [
    "In this block, you read the folder names for training and validation. You also set the `batch_size` here. Note that you set the batch size in such a way that you are able to use the GPU in full capacity. You keep increasing the batch size until the machine throws an error."
   ]
  },
  {
   "cell_type": "code",
   "execution_count": 3,
   "metadata": {},
   "outputs": [
    {
     "name": "stdout",
     "output_type": "stream",
     "text": [
      "Batch Size: 50, x: 30, y: 100, z: 100, Image Index : [ 0  1  2  3  4  5  6  7  8  9 10 11 12 13 14 15 16 17 18 19 20 21 22 23\n",
      " 24 25 26 27 28 29]\n"
     ]
    }
   ],
   "source": [
    "train_doc = np.random.permutation(open('./Project_data/train.csv').readlines())\n",
    "val_doc = np.random.permutation(open('./Project_data/val.csv').readlines())\n",
    "batch_size = 50  #experiment with the batch size\n",
    "image_index = np.arange(0,30,1)\n",
    "#image_index = np.random.randint(len(train_doc), size=batch_size)\n",
    "x= len(image_index)\n",
    "y=100\n",
    "z=100\n",
    "\n",
    "print('Batch Size: {0}, x: {1}, y: {2}, z: {3}, Image Index : {4}'.format(batch_size,x,y,z, image_index))"
   ]
  },
  {
   "cell_type": "markdown",
   "metadata": {},
   "source": [
    "## Generator\n",
    "This is one of the most important part of the code. The overall structure of the generator has been given. In the generator, you are going to preprocess the images as you have images of 2 different dimensions as well as create a batch of video frames. You have to experiment with `img_idx`, `y`,`z` and normalization such that you get high accuracy."
   ]
  },
  {
   "cell_type": "code",
   "execution_count": 4,
   "metadata": {},
   "outputs": [],
   "source": [
    "def generator(source_path, folder_list, batch_size):\n",
    "    print( 'Source path = ', source_path, '; batch size =', batch_size)\n",
    "    img_idx = image_index #create a list of image numbers you want to use for a particular video\n",
    "    while True:\n",
    "        t = np.random.permutation(folder_list)\n",
    "        num_batches = (len(folder_list))//batch_size # calculate the number of batches\n",
    "        remaining_batches = (len(folder_list)) - (num_batches * batch_size) # Calculate remaining batches\n",
    "        for batch in range(num_batches): # we iterate over the number of batches\n",
    "            \n",
    "            # x is the number of images you use for each video, \n",
    "            # (y,z) is the final size of the input images \n",
    "            # and 3 is the number of channels RGB\n",
    "            \n",
    "            batch_data = np.zeros((batch_size,x,y,z,3)) \n",
    "            batch_labels = np.zeros((batch_size,5)) # batch_labels is the one hot representation of the output\n",
    "            for folder in range(batch_size): # iterate over the batch_size\n",
    "                imgs = os.listdir(source_path+'/'+ t[folder + (batch*batch_size)].split(';')[0]) # read all the images in the folder\n",
    "                for idx,item in enumerate(img_idx): #  Iterate iver the frames/images of a folder to read them in\n",
    "                    image = imread(source_path+'/'+ t[folder + (batch*batch_size)].strip().split(';')[0]+'/'+imgs[item]).astype(np.float32)\n",
    "                    \n",
    "                    #crop the images and resize them. Note that the images are of 2 different shape \n",
    "                    #and the conv3D will throw error if the inputs in a batch have different shapes\n",
    "                    \n",
    "                    # As 1 Image size is 360*360 and another is 120*160. Hence both converted to 40*40\n",
    "                    image = imresize(image,(y,z,3))\n",
    "                    \n",
    "                    # normalise\n",
    "                    image_0 = image[:,:, 0]/255\n",
    "                    image_1 = image[:,:, 1]/255\n",
    "                    image_2 = image[:,:, 2]/255\n",
    "                    \n",
    "                    batch_data[folder,idx,:,:,0] = image_0 #normalise and feed in the image\n",
    "                    batch_data[folder,idx,:,:,1] = image_1 #normalise and feed in the image\n",
    "                    batch_data[folder,idx,:,:,2] = image_2 #normalise and feed in the image\n",
    "                    \n",
    "                batch_labels[folder, int(t[folder + (batch*batch_size)].strip().split(';')[2])] = 1\n",
    "            yield batch_data, batch_labels #you yield the batch_data and the batch_labels, remember what does yield do\n",
    "\n",
    "        \n",
    "        # write the code for the remaining data points which are left after full batches\n",
    "        \n",
    "        if (remaining_batches > 0 ):\n",
    "                        \n",
    "            # x is the number of images you use for each video, \n",
    "            # (y,z) is the final size of the input images \n",
    "            # and 3 is the number of channels RGB\n",
    "            \n",
    "            batch_data = np.zeros((batch_size,x,y,z,3)) \n",
    "            batch_labels = np.zeros((batch_size,5)) # batch_labels is the one hot representation of the output\n",
    "            for folder in range(remaining_batches): # iterate over the batch_size\n",
    "                imgs = os.listdir(source_path+'/'+ t[folder + (num_batches * batch_size)].split(';')[0]) # read all the images in the folder\n",
    "                for idx,item in enumerate(img_idx): #  Iterate iver the frames/images of a folder to read them in\n",
    "                    image = imread(source_path+'/'+ t[folder + (num_batches * batch_size)].strip().split(';')[0]+'/'+imgs[item]).astype(np.float32)\n",
    "                    \n",
    "                    #crop the images and resize them. Note that the images are of 2 different shape \n",
    "                    #and the conv3D will throw error if the inputs in a batch have different shapes\n",
    "                    \n",
    "                    # As 1 Image size is 360*360 and another is 120*160. Hence both converted to 40*40\n",
    "                    image = imresize(image,(y,z,3)) \n",
    "                    \n",
    "                    # normalise\n",
    "                    image_0 = image[:,:, 0]/255\n",
    "                    image_1 = image[:,:, 1]/255\n",
    "                    image_2 = image[:,:, 2]/255\n",
    "                    \n",
    "                    batch_data[folder,idx,:,:,0] = image_0 #normalise and feed in the image\n",
    "                    batch_data[folder,idx,:,:,1] = image_1 #normalise and feed in the image\n",
    "                    batch_data[folder,idx,:,:,2] = image_2 #normalise and feed in the image\n",
    "                    \n",
    "                batch_labels[folder, int(t[folder + (batch*batch_size)].strip().split(';')[2])] = 1\n",
    "            yield batch_data, batch_labels \n",
    "            #you yield the batch_data and the batch_labels, remember what does yield do\n"
   ]
  },
  {
   "cell_type": "markdown",
   "metadata": {},
   "source": [
    "Note here that a video is represented above in the generator as (number of images, height, width, number of channels). Take this into consideration while creating the model architecture."
   ]
  },
  {
   "cell_type": "code",
   "execution_count": 5,
   "metadata": {},
   "outputs": [
    {
     "name": "stdout",
     "output_type": "stream",
     "text": [
      "# training sequences = 663\n",
      "# validation sequences = 100\n",
      "# epochs = 30\n"
     ]
    }
   ],
   "source": [
    "curr_dt_time = datetime.datetime.now()\n",
    "train_path = './Project_data/train'\n",
    "val_path = './Project_data/val'\n",
    "num_train_sequences = len(train_doc)\n",
    "print('# training sequences =', num_train_sequences)\n",
    "num_val_sequences = len(val_doc)\n",
    "print('# validation sequences =', num_val_sequences)\n",
    "num_epochs = 30 # choose the number of epochs\n",
    "print ('# epochs =', num_epochs)"
   ]
  },
  {
   "cell_type": "markdown",
   "metadata": {},
   "source": [
    "## Model\n",
    "Here you make the model using different functionalities that Keras provides. Remember to use `Conv3D` and `MaxPooling3D` and not `Conv2D` and `Maxpooling2D` for a 3D convolution model. You would want to use `TimeDistributed` while building a Conv2D + RNN model. Also remember that the last layer is the softmax. Design the network in such a way that the model is able to give good accuracy on the least number of parameters so that it can fit in the memory of the webcam."
   ]
  },
  {
   "cell_type": "code",
   "execution_count": 6,
   "metadata": {},
   "outputs": [],
   "source": [
    "from keras.models import Sequential, Model\n",
    "from keras.layers import Dense, GRU, Flatten, TimeDistributed, Flatten, Input, Reshape,GlobalAveragePooling2D, BatchNormalization, Activation, Dropout, LSTM, Flatten\n",
    "from keras.layers.convolutional import Conv3D, MaxPooling3D, Conv2D, MaxPooling2D\n",
    "from keras.callbacks import ModelCheckpoint, ReduceLROnPlateau\n",
    "from keras import optimizers\n",
    "from keras.applications import ResNet50\n",
    "from keras.applications.resnet50 import preprocess_input\n",
    "#write your model here"
   ]
  },
  {
   "cell_type": "code",
   "execution_count": 7,
   "metadata": {},
   "outputs": [
    {
     "data": {
      "text/plain": [
       "((30, 100, 100, 3), [8, 16, 32, 64], [256, 128, 5])"
      ]
     },
     "execution_count": 7,
     "metadata": {},
     "output_type": "execute_result"
    }
   ],
   "source": [
    "#Initialization of Shape to the Conv3D \n",
    "input_shape = np.zeros((batch_size,x,y,z,3))\n",
    "\n",
    "nb_filters = [8,16,32,64] # Following are the Filter parameter\n",
    "nb_dense = [256, 128, 5] # Following are the Dense parameter\n",
    "\n",
    "input_shape.shape[1:], nb_filters, nb_dense"
   ]
  },
  {
   "cell_type": "markdown",
   "metadata": {},
   "source": [
    "## 1. These are MaxPooling3D and Conv3D"
   ]
  },
  {
   "cell_type": "code",
   "execution_count": 8,
   "metadata": {},
   "outputs": [
    {
     "name": "stdout",
     "output_type": "stream",
     "text": [
      "_________________________________________________________________\n",
      "Layer (type)                 Output Shape              Param #   \n",
      "=================================================================\n",
      "conv3d_1 (Conv3D)            (None, 30, 100, 100, 8)   656       \n",
      "_________________________________________________________________\n",
      "batch_normalization_1 (Batch (None, 30, 100, 100, 8)   32        \n",
      "_________________________________________________________________\n",
      "activation_1 (Activation)    (None, 30, 100, 100, 8)   0         \n",
      "_________________________________________________________________\n",
      "max_pooling3d_1 (MaxPooling3 (None, 15, 50, 50, 8)     0         \n",
      "_________________________________________________________________\n",
      "conv3d_2 (Conv3D)            (None, 15, 50, 50, 16)    3472      \n",
      "_________________________________________________________________\n",
      "batch_normalization_2 (Batch (None, 15, 50, 50, 16)    64        \n",
      "_________________________________________________________________\n",
      "activation_2 (Activation)    (None, 15, 50, 50, 16)    0         \n",
      "_________________________________________________________________\n",
      "max_pooling3d_2 (MaxPooling3 (None, 7, 25, 25, 16)     0         \n",
      "_________________________________________________________________\n",
      "conv3d_3 (Conv3D)            (None, 7, 25, 25, 32)     4640      \n",
      "_________________________________________________________________\n",
      "batch_normalization_3 (Batch (None, 7, 25, 25, 32)     128       \n",
      "_________________________________________________________________\n",
      "activation_3 (Activation)    (None, 7, 25, 25, 32)     0         \n",
      "_________________________________________________________________\n",
      "max_pooling3d_3 (MaxPooling3 (None, 3, 12, 12, 32)     0         \n",
      "_________________________________________________________________\n",
      "conv3d_4 (Conv3D)            (None, 3, 12, 12, 64)     18496     \n",
      "_________________________________________________________________\n",
      "activation_4 (Activation)    (None, 3, 12, 12, 64)     0         \n",
      "_________________________________________________________________\n",
      "dropout_1 (Dropout)          (None, 3, 12, 12, 64)     0         \n",
      "_________________________________________________________________\n",
      "max_pooling3d_4 (MaxPooling3 (None, 1, 6, 6, 64)       0         \n",
      "_________________________________________________________________\n",
      "flatten_1 (Flatten)          (None, 2304)              0         \n",
      "_________________________________________________________________\n",
      "dense_1 (Dense)              (None, 256)               590080    \n",
      "_________________________________________________________________\n",
      "dropout_2 (Dropout)          (None, 256)               0         \n",
      "_________________________________________________________________\n",
      "dense_2 (Dense)              (None, 128)               32896     \n",
      "_________________________________________________________________\n",
      "dropout_3 (Dropout)          (None, 128)               0         \n",
      "_________________________________________________________________\n",
      "dense_3 (Dense)              (None, 5)                 645       \n",
      "=================================================================\n",
      "Total params: 651,109\n",
      "Trainable params: 650,997\n",
      "Non-trainable params: 112\n",
      "_________________________________________________________________\n"
     ]
    }
   ],
   "source": [
    "#models present\n",
    "model = Sequential()\n",
    "    \n",
    "# Conv3D is a keras convolutional layer\n",
    "# Kindly note that the first layer requires input shape explicitly\n",
    "    \n",
    "# 1st conv layer:\n",
    "# input shape = (Number of Files, img_rows, img_cols, 3)\n",
    "model.add(Conv3D(nb_filters[0], kernel_size=(3, 3, 3), padding='same', input_shape=input_shape.shape[1:])) \n",
    "model.add(BatchNormalization())\n",
    "model.add(Activation('relu'))\n",
    "\n",
    "model.add(MaxPooling3D(pool_size=(2, 2, 2)))\n",
    "\n",
    "# 2nd conv layer:\n",
    "model.add(Conv3D(nb_filters[1], kernel_size=(3, 3, 3), padding='same')) \n",
    "model.add(BatchNormalization())\n",
    "model.add(Activation('relu'))\n",
    "\n",
    "model.add(MaxPooling3D(pool_size=(2, 2, 2)))\n",
    "\n",
    "# 3rd conv layer:\n",
    "model.add(Conv3D(nb_filters[2], kernel_size=(1,3,3), padding='same'))\n",
    "model.add(BatchNormalization())\n",
    "model.add(Activation('relu'))\n",
    "\n",
    "model.add(MaxPooling3D(pool_size=(2, 2, 2)))\n",
    "\n",
    "# 4th conv layer:\n",
    "model.add(Conv3D(nb_filters[3], kernel_size=(1,3,3), padding='same'))\n",
    "model.add(Activation('relu'))\n",
    "model.add(Dropout(0.25))\n",
    "\n",
    "model.add(MaxPooling3D(pool_size=(2, 2, 2)))\n",
    "    \n",
    "# Kindly put a fully connected layer after flattening\n",
    "model.add(Flatten())\n",
    "\n",
    "model.add(Dense(nb_dense[0], activation='relu'))\n",
    "model.add(Dropout(0.5))\n",
    "\n",
    "model.add(Dense(nb_dense[1], activation='relu'))\n",
    "model.add(Dropout(0.5))\n",
    "   \n",
    "# Below is the softmax layer\n",
    "model.add(Dense(nb_dense[2], activation='softmax'))\n",
    "    \n",
    "# Summary of the model\n",
    "model.summary()\n",
    "              "
   ]
  },
  {
   "cell_type": "markdown",
   "metadata": {},
   "source": [
    "## The Selection and Compilation of Model"
   ]
  },
  {
   "cell_type": "markdown",
   "metadata": {},
   "source": [
    "### Following are the Batch Size = 50, Frames = 30, Image Size 120 * 120, Epoch 10, Filter 3 * 3 * 3 working upon"
   ]
  },
  {
   "cell_type": "code",
   "execution_count": 9,
   "metadata": {
    "scrolled": false
   },
   "outputs": [],
   "source": [
    "optimiser = 'adam' #Specify the optimizer\n",
    "model.compile(optimizer=optimiser, loss='categorical_crossentropy', metrics=['categorical_accuracy'])"
   ]
  },
  {
   "cell_type": "markdown",
   "metadata": {},
   "source": [
    "Let us create the `train_generator` and the `val_generator` which will be used in `.fit_generator`."
   ]
  },
  {
   "cell_type": "code",
   "execution_count": 10,
   "metadata": {},
   "outputs": [],
   "source": [
    "train_generator = generator(train_path, train_doc, batch_size)\n",
    "val_generator = generator(val_path, val_doc, batch_size)"
   ]
  },
  {
   "cell_type": "code",
   "execution_count": 11,
   "metadata": {},
   "outputs": [],
   "source": [
    "model_name = 'model_init' + '_' + str(curr_dt_time).replace(' ','').replace(':','_') + '/'\n",
    "    \n",
    "if not os.path.exists(model_name):\n",
    "    os.mkdir(model_name)\n",
    "        \n",
    "filepath = model_name + 'model-{epoch:05d}-{loss:.5f}-{categorical_accuracy:.5f}-{val_loss:.5f}-{val_categorical_accuracy:.5f}.h5'\n",
    "\n",
    "checkpoint = ModelCheckpoint(filepath, monitor='val_loss', verbose=1, save_best_only=False, save_weights_only=False, mode='auto', period=1)\n",
    "\n",
    "LR = ReduceLROnPlateau(monitor='val_loss', factor=0.2, verbose=1, patience=5, min_lr=0.001) # Specify the Reducelronplateau code\n",
    "callbacks_list = [checkpoint, LR]"
   ]
  },
  {
   "cell_type": "markdown",
   "metadata": {},
   "source": [
    "The `steps_per_epoch` and `validation_steps` are used by `fit_generator` to decide the number of next() calls it need to make."
   ]
  },
  {
   "cell_type": "code",
   "execution_count": 12,
   "metadata": {},
   "outputs": [],
   "source": [
    "if (num_train_sequences%batch_size) == 0:\n",
    "    steps_per_epoch = int(num_train_sequences/batch_size)\n",
    "else:\n",
    "    steps_per_epoch = (num_train_sequences//batch_size) + 1\n",
    "\n",
    "if (num_val_sequences%batch_size) == 0:\n",
    "    validation_steps = int(num_val_sequences/batch_size)\n",
    "else:\n",
    "    validation_steps = (num_val_sequences//batch_size) + 1"
   ]
  },
  {
   "cell_type": "markdown",
   "metadata": {},
   "source": [
    "Let us now fit the model. This will start training the model and with the help of the checkpoints, you'll be able to save the model at the end of each epoch."
   ]
  },
  {
   "cell_type": "code",
   "execution_count": 13,
   "metadata": {
    "scrolled": false
   },
   "outputs": [
    {
     "name": "stdout",
     "output_type": "stream",
     "text": [
      "Source path =  ./Project_data/val ; batch size =Source path =  ./Project_data/trainEpoch 1/30 50\n",
      "\n",
      " ; batch size = 50\n",
      "14/14 [==============================] - 242s 17s/step - loss: 2.0865 - categorical_accuracy: 0.2071 - val_loss: 1.5186 - val_categorical_accuracy: 0.2900\n",
      "\n",
      "Epoch 00001: saving model to model_init_2020-05-2416_01_34.071577/model-00001-2.08649-0.20714-1.51858-0.29000.h5\n",
      "Epoch 2/30\n",
      "14/14 [==============================] - 73s 5s/step - loss: 1.4786 - categorical_accuracy: 0.2914 - val_loss: 1.4803 - val_categorical_accuracy: 0.2500\n",
      "\n",
      "Epoch 00002: saving model to model_init_2020-05-2416_01_34.071577/model-00002-1.47862-0.29143-1.48026-0.25000.h5\n",
      "Epoch 3/30\n",
      "14/14 [==============================] - 72s 5s/step - loss: 1.4026 - categorical_accuracy: 0.3471 - val_loss: 1.2221 - val_categorical_accuracy: 0.5200\n",
      "\n",
      "Epoch 00003: saving model to model_init_2020-05-2416_01_34.071577/model-00003-1.40263-0.34714-1.22211-0.52000.h5\n",
      "Epoch 4/30\n",
      "14/14 [==============================] - 73s 5s/step - loss: 1.2838 - categorical_accuracy: 0.3843 - val_loss: 1.1636 - val_categorical_accuracy: 0.6200\n",
      "\n",
      "Epoch 00004: saving model to model_init_2020-05-2416_01_34.071577/model-00004-1.28385-0.38429-1.16362-0.62000.h5\n",
      "Epoch 5/30\n",
      "14/14 [==============================] - 73s 5s/step - loss: 1.1405 - categorical_accuracy: 0.4657 - val_loss: 1.0820 - val_categorical_accuracy: 0.5600\n",
      "\n",
      "Epoch 00005: saving model to model_init_2020-05-2416_01_34.071577/model-00005-1.14052-0.46571-1.08197-0.56000.h5\n",
      "Epoch 6/30\n",
      "14/14 [==============================] - 72s 5s/step - loss: 1.0503 - categorical_accuracy: 0.5186 - val_loss: 1.0491 - val_categorical_accuracy: 0.5700\n",
      "\n",
      "Epoch 00006: saving model to model_init_2020-05-2416_01_34.071577/model-00006-1.05032-0.51857-1.04911-0.57000.h5\n",
      "Epoch 7/30\n",
      "14/14 [==============================] - 72s 5s/step - loss: 1.0204 - categorical_accuracy: 0.5414 - val_loss: 0.9846 - val_categorical_accuracy: 0.6100\n",
      "\n",
      "Epoch 00007: saving model to model_init_2020-05-2416_01_34.071577/model-00007-1.02044-0.54143-0.98463-0.61000.h5\n",
      "Epoch 8/30\n",
      "14/14 [==============================] - 72s 5s/step - loss: 0.8551 - categorical_accuracy: 0.6000 - val_loss: 1.0414 - val_categorical_accuracy: 0.5800\n",
      "\n",
      "Epoch 00008: saving model to model_init_2020-05-2416_01_34.071577/model-00008-0.85511-0.60000-1.04136-0.58000.h5\n",
      "Epoch 9/30\n",
      "14/14 [==============================] - 72s 5s/step - loss: 0.8354 - categorical_accuracy: 0.6029 - val_loss: 1.0474 - val_categorical_accuracy: 0.5500\n",
      "\n",
      "Epoch 00009: saving model to model_init_2020-05-2416_01_34.071577/model-00009-0.83543-0.60286-1.04744-0.55000.h5\n",
      "Epoch 10/30\n",
      "14/14 [==============================] - 72s 5s/step - loss: 0.7120 - categorical_accuracy: 0.6743 - val_loss: 0.9817 - val_categorical_accuracy: 0.5900\n",
      "\n",
      "Epoch 00010: saving model to model_init_2020-05-2416_01_34.071577/model-00010-0.71202-0.67429-0.98174-0.59000.h5\n",
      "Epoch 11/30\n",
      "14/14 [==============================] - 72s 5s/step - loss: 0.7590 - categorical_accuracy: 0.6543 - val_loss: 1.2914 - val_categorical_accuracy: 0.5000\n",
      "\n",
      "Epoch 00011: saving model to model_init_2020-05-2416_01_34.071577/model-00011-0.75895-0.65429-1.29139-0.50000.h5\n",
      "Epoch 12/30\n",
      "14/14 [==============================] - 72s 5s/step - loss: 0.6411 - categorical_accuracy: 0.7000 - val_loss: 0.7240 - val_categorical_accuracy: 0.7100\n",
      "\n",
      "Epoch 00012: saving model to model_init_2020-05-2416_01_34.071577/model-00012-0.64106-0.70000-0.72398-0.71000.h5\n",
      "Epoch 13/30\n",
      "14/14 [==============================] - 72s 5s/step - loss: 0.5418 - categorical_accuracy: 0.7414 - val_loss: 0.8173 - val_categorical_accuracy: 0.7000\n",
      "\n",
      "Epoch 00013: saving model to model_init_2020-05-2416_01_34.071577/model-00013-0.54176-0.74143-0.81727-0.70000.h5\n",
      "Epoch 14/30\n",
      "14/14 [==============================] - 72s 5s/step - loss: 0.5370 - categorical_accuracy: 0.7414 - val_loss: 1.0963 - val_categorical_accuracy: 0.5700\n",
      "\n",
      "Epoch 00014: saving model to model_init_2020-05-2416_01_34.071577/model-00014-0.53696-0.74143-1.09629-0.57000.h5\n",
      "Epoch 15/30\n",
      "14/14 [==============================] - 73s 5s/step - loss: 0.5022 - categorical_accuracy: 0.7671 - val_loss: 0.8476 - val_categorical_accuracy: 0.6700\n",
      "\n",
      "Epoch 00015: saving model to model_init_2020-05-2416_01_34.071577/model-00015-0.50216-0.76714-0.84756-0.67000.h5\n",
      "Epoch 16/30\n",
      "14/14 [==============================] - 73s 5s/step - loss: 0.4005 - categorical_accuracy: 0.8057 - val_loss: 1.2339 - val_categorical_accuracy: 0.6500\n",
      "\n",
      "Epoch 00016: saving model to model_init_2020-05-2416_01_34.071577/model-00016-0.40048-0.80571-1.23387-0.65000.h5\n",
      "Epoch 17/30\n",
      "14/14 [==============================] - 72s 5s/step - loss: 0.3994 - categorical_accuracy: 0.8057 - val_loss: 1.0579 - val_categorical_accuracy: 0.5300\n",
      "\n",
      "Epoch 00017: saving model to model_init_2020-05-2416_01_34.071577/model-00017-0.39941-0.80571-1.05790-0.53000.h5\n",
      "\n",
      "Epoch 00017: ReduceLROnPlateau reducing learning rate to 0.001.\n",
      "Epoch 18/30\n",
      "14/14 [==============================] - 72s 5s/step - loss: 0.3586 - categorical_accuracy: 0.8157 - val_loss: 0.8329 - val_categorical_accuracy: 0.6900\n",
      "\n",
      "Epoch 00018: saving model to model_init_2020-05-2416_01_34.071577/model-00018-0.35864-0.81571-0.83291-0.69000.h5\n",
      "Epoch 19/30\n",
      "14/14 [==============================] - 72s 5s/step - loss: 0.2759 - categorical_accuracy: 0.8400 - val_loss: 0.6904 - val_categorical_accuracy: 0.7200\n",
      "\n",
      "Epoch 00019: saving model to model_init_2020-05-2416_01_34.071577/model-00019-0.27592-0.84000-0.69038-0.72000.h5\n",
      "Epoch 20/30\n",
      "14/14 [==============================] - 72s 5s/step - loss: 0.2274 - categorical_accuracy: 0.8557 - val_loss: 0.8966 - val_categorical_accuracy: 0.6500\n",
      "\n",
      "Epoch 00020: saving model to model_init_2020-05-2416_01_34.071577/model-00020-0.22743-0.85571-0.89661-0.65000.h5\n",
      "Epoch 21/30\n",
      "14/14 [==============================] - 72s 5s/step - loss: 0.2142 - categorical_accuracy: 0.8714 - val_loss: 1.1960 - val_categorical_accuracy: 0.5200\n",
      "\n",
      "Epoch 00021: saving model to model_init_2020-05-2416_01_34.071577/model-00021-0.21420-0.87143-1.19601-0.52000.h5\n",
      "Epoch 22/30\n",
      "14/14 [==============================] - 72s 5s/step - loss: 0.2258 - categorical_accuracy: 0.8729 - val_loss: 1.5846 - val_categorical_accuracy: 0.4800\n",
      "\n",
      "Epoch 00022: saving model to model_init_2020-05-2416_01_34.071577/model-00022-0.22579-0.87286-1.58457-0.48000.h5\n",
      "Epoch 23/30\n",
      "14/14 [==============================] - 72s 5s/step - loss: 0.2066 - categorical_accuracy: 0.8729 - val_loss: 1.4526 - val_categorical_accuracy: 0.5900\n",
      "\n",
      "Epoch 00023: saving model to model_init_2020-05-2416_01_34.071577/model-00023-0.20657-0.87286-1.45257-0.59000.h5\n",
      "Epoch 24/30\n",
      "14/14 [==============================] - 72s 5s/step - loss: 0.1999 - categorical_accuracy: 0.8714 - val_loss: 1.6869 - val_categorical_accuracy: 0.4200\n",
      "\n",
      "Epoch 00024: saving model to model_init_2020-05-2416_01_34.071577/model-00024-0.19995-0.87143-1.68689-0.42000.h5\n",
      "\n",
      "Epoch 00024: ReduceLROnPlateau reducing learning rate to 0.001.\n",
      "Epoch 25/30\n",
      "14/14 [==============================] - 72s 5s/step - loss: 0.1651 - categorical_accuracy: 0.8957 - val_loss: 1.1864 - val_categorical_accuracy: 0.5400\n",
      "\n",
      "Epoch 00025: saving model to model_init_2020-05-2416_01_34.071577/model-00025-0.16512-0.89571-1.18643-0.54000.h5\n",
      "Epoch 26/30\n",
      "14/14 [==============================] - 72s 5s/step - loss: 0.1480 - categorical_accuracy: 0.8900 - val_loss: 0.8735 - val_categorical_accuracy: 0.7600\n",
      "\n",
      "Epoch 00026: saving model to model_init_2020-05-2416_01_34.071577/model-00026-0.14801-0.89000-0.87348-0.76000.h5\n",
      "Epoch 27/30\n",
      "14/14 [==============================] - 72s 5s/step - loss: 0.1765 - categorical_accuracy: 0.8957 - val_loss: 1.0006 - val_categorical_accuracy: 0.6500\n",
      "\n",
      "Epoch 00027: saving model to model_init_2020-05-2416_01_34.071577/model-00027-0.17649-0.89571-1.00061-0.65000.h5\n",
      "Epoch 28/30\n",
      "14/14 [==============================] - 71s 5s/step - loss: 0.1799 - categorical_accuracy: 0.8729 - val_loss: 1.3627 - val_categorical_accuracy: 0.6700\n",
      "\n",
      "Epoch 00028: saving model to model_init_2020-05-2416_01_34.071577/model-00028-0.17991-0.87286-1.36267-0.67000.h5\n",
      "Epoch 29/30\n",
      "14/14 [==============================] - 72s 5s/step - loss: 0.1834 - categorical_accuracy: 0.8857 - val_loss: 0.8790 - val_categorical_accuracy: 0.6600\n"
     ]
    },
    {
     "name": "stdout",
     "output_type": "stream",
     "text": [
      "\n",
      "Epoch 00029: saving model to model_init_2020-05-2416_01_34.071577/model-00029-0.18339-0.88571-0.87903-0.66000.h5\n",
      "\n",
      "Epoch 00029: ReduceLROnPlateau reducing learning rate to 0.001.\n",
      "Epoch 30/30\n",
      "14/14 [==============================] - 71s 5s/step - loss: 0.1499 - categorical_accuracy: 0.8800 - val_loss: 1.0384 - val_categorical_accuracy: 0.6800\n",
      "\n",
      "Epoch 00030: saving model to model_init_2020-05-2416_01_34.071577/model-00030-0.14992-0.88000-1.03844-0.68000.h5\n"
     ]
    }
   ],
   "source": [
    "history = model.fit_generator(train_generator, steps_per_epoch=steps_per_epoch, epochs=num_epochs, verbose=1, \n",
    "                    callbacks=callbacks_list, validation_data=val_generator, \n",
    "                    validation_steps=validation_steps, class_weight=None, workers=1, initial_epoch=0)"
   ]
  },
  {
   "cell_type": "code",
   "execution_count": 14,
   "metadata": {},
   "outputs": [
    {
     "name": "stdout",
     "output_type": "stream",
     "text": [
      "dict_keys(['val_loss', 'val_categorical_accuracy', 'loss', 'categorical_accuracy', 'lr'])\n"
     ]
    },
    {
     "data": {
      "image/png": "[encoded data removed]",
      "text/plain": [
       "<Figure size 432x288 with 1 Axes>"
      ]
     },
     "metadata": {},
     "output_type": "display_data"
    },
    {
     "data": {
      "image/png": "[encoded data removed]",
      "text/plain": [
       "<Figure size 432x288 with 1 Axes>"
      ]
     },
     "metadata": {},
     "output_type": "display_data"
    }
   ],
   "source": [
    "# Provide all the historical data\n",
    "print(history.history.keys())\n",
    "\n",
    "# summarize the history inorder to improve accuracy\n",
    "plt.plot(history.history['categorical_accuracy'])\n",
    "plt.plot(history.history['val_categorical_accuracy'])\n",
    "plt.title('model accuracy')\n",
    "plt.ylabel('accuracy')\n",
    "plt.xlabel('epoch')\n",
    "plt.legend(['train', 'test'], loc='upper left')\n",
    "plt.show()\n",
    "\n",
    "# summarize the history for loss\n",
    "plt.plot(history.history['loss'])\n",
    "plt.plot(history.history['val_loss'])\n",
    "plt.title('model loss')\n",
    "plt.ylabel('loss')\n",
    "plt.xlabel('epoch')\n",
    "plt.legend(['train', 'test'], loc='upper left')\n",
    "plt.show()"
   ]
  },
  {
   "cell_type": "markdown",
   "metadata": {},
   "source": [
    "## 2. Learning in the Conv2D to be transferred in RNN GRU mode using TimeDistributed. Last layer to be transferred as softmax"
   ]
  },
  {
   "cell_type": "code",
   "execution_count": 24,
   "metadata": {},
   "outputs": [
    {
     "name": "stdout",
     "output_type": "stream",
     "text": [
      "Batch Size: 30, x: 30, y: 60, z: 60, Image Index : [ 0  1  2  3  4  5  6  7  8  9 10 11 12 13 14 15 16 17 18 19 20 21 22 23\n",
      " 24 25 26 27 28 29]\n"
     ]
    }
   ],
   "source": [
    "train_doc = np.random.permutation(open('./Project_data/train.csv').readlines())\n",
    "val_doc = np.random.permutation(open('./Project_data/val.csv').readlines())\n",
    "batch_size = 30  # batch size with the corresponding experiment\n",
    "image_index = np.arange(0,30,1)\n",
    "#image_index = np.random.randint(len(train_doc), size=batch_size)\n",
    "x= len(image_index)\n",
    "y=60\n",
    "z=60\n",
    "\n",
    "print('Batch Size: {0}, x: {1}, y: {2}, z: {3}, Image Index : {4}'.format(batch_size,x,y,z, image_index))"
   ]
  },
  {
   "cell_type": "code",
   "execution_count": 25,
   "metadata": {},
   "outputs": [
    {
     "name": "stdout",
     "output_type": "stream",
     "text": [
      "# training sequences amount = 663\n",
      "# validation sequences amount = 100\n",
      "# epochs = 10\n"
     ]
    }
   ],
   "source": [
    "curr_dt_time = datetime.datetime.now()\n",
    "train_path = './Project_data/train'\n",
    "val_path = './Project_data/val'\n",
    "num_train_sequences = len(train_doc)\n",
    "print('# training sequences amount =', num_train_sequences)\n",
    "num_val_sequences = len(val_doc)\n",
    "print('# validation sequences amount =', num_val_sequences)\n",
    "num_epochs = 10 # select the amount of epochs\n",
    "print ('# epochs =', num_epochs)"
   ]
  },
  {
   "cell_type": "code",
   "execution_count": 26,
   "metadata": {},
   "outputs": [
    {
     "data": {
      "text/plain": [
       "((30, 60, 60, 3), [8, 16, 32, 64], [256, 128, 5])"
      ]
     },
     "execution_count": 26,
     "metadata": {},
     "output_type": "execute_result"
    }
   ],
   "source": [
    "#Kindly initialize shape to the Conv3D\n",
    "input_shape = np.zeros((batch_size,x,y,z,3))\n",
    "\n",
    "#Dense Parameter present \n",
    "num_classes=5\n",
    "\n",
    "input_shape.shape[1:], nb_filters, nb_dense"
   ]
  },
  {
   "cell_type": "code",
   "execution_count": 27,
   "metadata": {},
   "outputs": [
    {
     "name": "stdout",
     "output_type": "stream",
     "text": [
      "_________________________________________________________________\n",
      "Layer (type)                 Output Shape              Param #   \n",
      "=================================================================\n",
      "input_4 (InputLayer)         (None, 30, 60, 60, 3)     0         \n",
      "_________________________________________________________________\n",
      "time_distributed_2 (TimeDist (None, 30, 2048)          23587712  \n",
      "_________________________________________________________________\n",
      "reshape_2 (Reshape)          (None, 30, 2048)          0         \n",
      "_________________________________________________________________\n",
      "gru_2 (GRU)                  (None, 64)                405696    \n",
      "_________________________________________________________________\n",
      "dense_5 (Dense)              (None, 5)                 325       \n",
      "=================================================================\n",
      "Total params: 23,993,733\n",
      "Trainable params: 23,940,613\n",
      "Non-trainable params: 53,120\n",
      "_________________________________________________________________\n"
     ]
    },
    {
     "name": "stderr",
     "output_type": "stream",
     "text": [
      "/mnt/disks/user/anaconda3/lib/python3.6/site-packages/ipykernel_launcher.py:15: UserWarning: Update your `Dense` call to the Keras 2 API: `Dense(activation=\"softmax\", units=5)`\n",
      "  from ipykernel import kernelapp as app\n"
     ]
    }
   ],
   "source": [
    "# 23.521M parameters are transferred by ResNet50 \n",
    "resnet = ResNet50(include_top=False, weights='imagenet', pooling = 'avg')\n",
    "\n",
    "# Alone(self) training of the classifier\n",
    "input_layer = Input(shape=input_shape.shape[1:])\n",
    "\n",
    "#The Time Distributed layer\n",
    "curr_layer = TimeDistributed(resnet)(input_layer)\n",
    "curr_layer = Reshape(target_shape=(input_shape.shape[1:][0], 2048))(curr_layer)\n",
    "\n",
    "# The GRU layer along with regularisation of Dropout \n",
    "gru_out = GRU(64, dropout=0.25)(curr_layer)\n",
    "\n",
    "# The output layer\n",
    "output = Dense(output_dim=num_classes, activation='softmax')(gru_out)\n",
    "model = Model([input_layer], output)\n",
    "\n",
    "#The Summary of Model\n",
    "model.summary()"
   ]
  },
  {
   "cell_type": "markdown",
   "metadata": {},
   "source": [
    "## The Compilation and Selection of Model"
   ]
  },
  {
   "cell_type": "markdown",
   "metadata": {},
   "source": [
    "### Foloowing are the Batch Size = 50, Frames = 30, Image Size 120 * 120, Epoch 10, Filter 3 * 3 * 3 working upon"
   ]
  },
  {
   "cell_type": "code",
   "execution_count": 28,
   "metadata": {
    "scrolled": false
   },
   "outputs": [],
   "source": [
    "optimiser = 'adam' #Specify the optimizer\n",
    "model.compile(optimizer=optimiser, loss='categorical_crossentropy', metrics=['categorical_accuracy'])"
   ]
  },
  {
   "cell_type": "markdown",
   "metadata": {},
   "source": [
    "Let us create the `train_generator` and the `val_generator` which will be used in `.fit_generator`."
   ]
  },
  {
   "cell_type": "code",
   "execution_count": 29,
   "metadata": {},
   "outputs": [],
   "source": [
    "train_generator = generator(train_path, train_doc, batch_size)\n",
    "val_generator = generator(val_path, val_doc, batch_size)"
   ]
  },
  {
   "cell_type": "code",
   "execution_count": 30,
   "metadata": {},
   "outputs": [],
   "source": [
    "model_name = 'model_init' + '_' + str(curr_dt_time).replace(' ','').replace(':','_') + '/'\n",
    "    \n",
    "if not os.path.exists(model_name):\n",
    "    os.mkdir(model_name)\n",
    "        \n",
    "filepath = model_name + 'model-{epoch:05d}-{loss:.5f}-{categorical_accuracy:.5f}-{val_loss:.5f}-{val_categorical_accuracy:.5f}.h5'\n",
    "\n",
    "checkpoint = ModelCheckpoint(filepath, monitor='val_loss', verbose=1, save_best_only=False, save_weights_only=False, mode='auto', period=1)\n",
    "\n",
    "LR = ReduceLROnPlateau(monitor='val_loss', factor=0.2, verbose=1, patience=5, min_lr=0.001) # Specify the Rerducelronplateau code\n",
    "callbacks_list = [checkpoint, LR]"
   ]
  },
  {
   "cell_type": "markdown",
   "metadata": {},
   "source": [
    "The `steps_per_epoch` and `validation_steps` are used by `fit_generator` to decide the number of next() calls it need to make."
   ]
  },
  {
   "cell_type": "code",
   "execution_count": 31,
   "metadata": {},
   "outputs": [],
   "source": [
    "if (num_train_sequences%batch_size) == 0:\n",
    "    steps_per_epoch = int(num_train_sequences/batch_size)\n",
    "else:\n",
    "    steps_per_epoch = (num_train_sequences//batch_size) + 1\n",
    "\n",
    "if (num_val_sequences%batch_size) == 0:\n",
    "    validation_steps = int(num_val_sequences/batch_size)\n",
    "else:\n",
    "    validation_steps = (num_val_sequences//batch_size) + 1"
   ]
  },
  {
   "cell_type": "markdown",
   "metadata": {},
   "source": [
    "Let us now fit the model. This will start training the model and with the help of the checkpoints, you'll be able to save the model at the end of each epoch."
   ]
  },
  {
   "cell_type": "code",
   "execution_count": 32,
   "metadata": {
    "scrolled": false
   },
   "outputs": [
    {
     "name": "stdout",
     "output_type": "stream",
     "text": [
      "Source path =  ./Project_data/val ; batch size = 30\n",
      "Source path =  Epoch 1/10\n",
      "./Project_data/train ; batch size = 30\n",
      "23/23 [==============================] - 93s 4s/step - loss: 1.2101 - categorical_accuracy: 0.4870 - val_loss: 2.6181 - val_categorical_accuracy: 0.3583\n",
      "\n",
      "Epoch 00001: saving model to model_init_2020-05-2212_20_20.858211/model-00001-1.21008-0.48696-2.61806-0.35833.h5\n",
      "Epoch 2/10\n",
      "23/23 [==============================] - 67s 3s/step - loss: 0.4536 - categorical_accuracy: 0.8101 - val_loss: 1.1973 - val_categorical_accuracy: 0.6167\n",
      "\n",
      "Epoch 00002: saving model to model_init_2020-05-2212_20_20.858211/model-00002-0.45362-0.81014-1.19730-0.61667.h5\n",
      "Epoch 3/10\n",
      "23/23 [==============================] - 73s 3s/step - loss: 0.2951 - categorical_accuracy: 0.8957 - val_loss: 3.1707 - val_categorical_accuracy: 0.1583\n",
      "\n",
      "Epoch 00003: saving model to model_init_2020-05-2212_20_20.858211/model-00003-0.29513-0.89565-3.17068-0.15833.h5\n",
      "Epoch 4/10\n",
      "23/23 [==============================] - 74s 3s/step - loss: 0.1774 - categorical_accuracy: 0.9420 - val_loss: 1.7705 - val_categorical_accuracy: 0.5167\n",
      "\n",
      "Epoch 00004: saving model to model_init_2020-05-2212_20_20.858211/model-00004-0.17745-0.94203-1.77054-0.51667.h5\n",
      "Epoch 5/10\n",
      "23/23 [==============================] - 72s 3s/step - loss: 0.1257 - categorical_accuracy: 0.9217 - val_loss: 1.9545 - val_categorical_accuracy: 0.5167\n",
      "\n",
      "Epoch 00005: saving model to model_init_2020-05-2212_20_20.858211/model-00005-0.12567-0.92174-1.95455-0.51667.h5\n",
      "Epoch 6/10\n",
      "23/23 [==============================] - 73s 3s/step - loss: 0.1126 - categorical_accuracy: 0.9551 - val_loss: 1.1921 - val_categorical_accuracy: 0.5583\n",
      "\n",
      "Epoch 00006: saving model to model_init_2020-05-2212_20_20.858211/model-00006-0.11256-0.95507-1.19210-0.55833.h5\n",
      "Epoch 7/10\n",
      "23/23 [==============================] - 73s 3s/step - loss: 0.0787 - categorical_accuracy: 0.9522 - val_loss: 1.4012 - val_categorical_accuracy: 0.5500\n",
      "\n",
      "Epoch 00007: saving model to model_init_2020-05-2212_20_20.858211/model-00007-0.07873-0.95217-1.40118-0.55000.h5\n",
      "Epoch 8/10\n",
      "23/23 [==============================] - 73s 3s/step - loss: 0.1215 - categorical_accuracy: 0.9275 - val_loss: 1.7002 - val_categorical_accuracy: 0.4500\n",
      "\n",
      "Epoch 00008: saving model to model_init_2020-05-2212_20_20.858211/model-00008-0.12150-0.92754-1.70023-0.45000.h5\n",
      "Epoch 9/10\n",
      "23/23 [==============================] - 72s 3s/step - loss: 0.1878 - categorical_accuracy: 0.9348 - val_loss: 1.5887 - val_categorical_accuracy: 0.3083\n",
      "\n",
      "Epoch 00009: saving model to model_init_2020-05-2212_20_20.858211/model-00009-0.18776-0.93478-1.58866-0.30833.h5\n",
      "Epoch 10/10\n",
      "23/23 [==============================] - 73s 3s/step - loss: 0.1007 - categorical_accuracy: 0.9333 - val_loss: 1.4007 - val_categorical_accuracy: 0.4250\n",
      "\n",
      "Epoch 00010: saving model to model_init_2020-05-2212_20_20.858211/model-00010-0.10070-0.93333-1.40066-0.42500.h5\n"
     ]
    }
   ],
   "source": [
    "history = model.fit_generator(train_generator, steps_per_epoch=steps_per_epoch, epochs=num_epochs, verbose=1, \n",
    "                    callbacks=callbacks_list, validation_data=val_generator, \n",
    "                    validation_steps=validation_steps, class_weight=None, workers=1, initial_epoch=0)"
   ]
  },
  {
   "cell_type": "code",
   "execution_count": 33,
   "metadata": {},
   "outputs": [
    {
     "name": "stdout",
     "output_type": "stream",
     "text": [
      "dict_keys(['val_loss', 'val_categorical_accuracy', 'loss', 'categorical_accuracy', 'lr'])\n"
     ]
    },
    {
     "data": {
      "image/png": "[encoded data removed]",
      "text/plain": [
       "<Figure size 432x288 with 1 Axes>"
      ]
     },
     "metadata": {},
     "output_type": "display_data"
    },
    {
     "data": {
      "image/png": "[encoded data removed]",
      "text/plain": [
       "<Figure size 432x288 with 1 Axes>"
      ]
     },
     "metadata": {},
     "output_type": "display_data"
    }
   ],
   "source": [
    "# Specify all the historical data\n",
    "print(history.history.keys())\n",
    "\n",
    "# Summarize the historical data to improve accuracy\n",
    "plt.plot(history.history['categorical_accuracy'])\n",
    "plt.plot(history.history['val_categorical_accuracy'])\n",
    "plt.title('model accuracy')\n",
    "plt.ylabel('accuracy')\n",
    "plt.xlabel('epoch')\n",
    "plt.legend(['train', 'test'], loc='upper left')\n",
    "plt.show()\n",
    "\n",
    "# summarize the historical data for loss\n",
    "plt.plot(history.history['loss'])\n",
    "plt.plot(history.history['val_loss'])\n",
    "plt.title('model loss')\n",
    "plt.ylabel('loss')\n",
    "plt.xlabel('epoch')\n",
    "plt.legend(['train', 'test'], loc='upper left')\n",
    "plt.show()"
   ]
  }
 ],
 "metadata": {
  "kernelspec": {
   "display_name": "Python 3",
   "language": "python",
   "name": "python3"
  },
  "language_info": {
   "codemirror_mode": {
    "name": "ipython",
    "version": 3
   },
   "file_extension": ".py",
   "mimetype": "text/x-python",
   "name": "python",
   "nbconvert_exporter": "python",
   "pygments_lexer": "ipython3",
   "version": "3.7.6"
  }
 },
 "nbformat": 4,
 "nbformat_minor": 2
}
